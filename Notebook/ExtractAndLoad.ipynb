{
 "cells": [
  {
   "cell_type": "code",
   "execution_count": 1,
   "id": "51390736-f00d-433f-b570-e851379887bd",
   "metadata": {},
   "outputs": [
    {
     "name": "stdout",
     "output_type": "stream",
     "text": [
      "Requirement already satisfied: pandas==2.1.4 in /home/nantenaina/anaconda3/lib/python3.11/site-packages (from -r requirements.txt (line 1)) (2.1.4)\n",
      "Requirement already satisfied: python-dotenv==0.19.2 in /home/nantenaina/anaconda3/lib/python3.11/site-packages (from -r requirements.txt (line 3)) (0.19.2)\n",
      "Requirement already satisfied: sqlalchemy==1.4.28 in /home/nantenaina/anaconda3/lib/python3.11/site-packages (from -r requirements.txt (line 4)) (1.4.28)\n",
      "Requirement already satisfied: psycopg[binary] in /home/nantenaina/anaconda3/lib/python3.11/site-packages (from -r requirements.txt (line 2)) (3.1.16)\n",
      "Requirement already satisfied: numpy<2,>=1.23.2 in /home/nantenaina/anaconda3/lib/python3.11/site-packages (from pandas==2.1.4->-r requirements.txt (line 1)) (1.26.2)\n",
      "Requirement already satisfied: python-dateutil>=2.8.2 in /home/nantenaina/anaconda3/lib/python3.11/site-packages (from pandas==2.1.4->-r requirements.txt (line 1)) (2.8.2)\n",
      "Requirement already satisfied: pytz>=2020.1 in /home/nantenaina/anaconda3/lib/python3.11/site-packages (from pandas==2.1.4->-r requirements.txt (line 1)) (2023.3.post1)\n",
      "Requirement already satisfied: tzdata>=2022.1 in /home/nantenaina/anaconda3/lib/python3.11/site-packages (from pandas==2.1.4->-r requirements.txt (line 1)) (2023.3)\n",
      "Requirement already satisfied: greenlet!=0.4.17 in /home/nantenaina/anaconda3/lib/python3.11/site-packages (from sqlalchemy==1.4.28->-r requirements.txt (line 4)) (3.0.2)\n",
      "Requirement already satisfied: typing-extensions>=4.1 in /home/nantenaina/anaconda3/lib/python3.11/site-packages (from psycopg[binary]->-r requirements.txt (line 2)) (4.9.0)\n",
      "Requirement already satisfied: psycopg-binary==3.1.16 in /home/nantenaina/anaconda3/lib/python3.11/site-packages (from psycopg[binary]->-r requirements.txt (line 2)) (3.1.16)\n",
      "Requirement already satisfied: six>=1.5 in /home/nantenaina/anaconda3/lib/python3.11/site-packages (from python-dateutil>=2.8.2->pandas==2.1.4->-r requirements.txt (line 1)) (1.16.0)\n"
     ]
    }
   ],
   "source": [
    "!pip install -r requirements.txt"
   ]
  },
  {
   "cell_type": "code",
   "execution_count": 2,
   "id": "3898c789-da1c-4031-b9b6-b2a906f70f90",
   "metadata": {},
   "outputs": [],
   "source": [
    "\n",
    "import os\n",
    "\n",
    "import pandas as pd\n"
   ]
  },
  {
   "cell_type": "code",
   "execution_count": 3,
   "id": "495d790d-3968-4ee5-b8fc-fc64f36f833d",
   "metadata": {},
   "outputs": [
    {
     "name": "stdout",
     "output_type": "stream",
     "text": [
      "  track_id; type; traveled_d; avg_speed; lat; lon; speed; lon_acc; lat_acc; time\n",
      "0  1; Car; 48.85; 9.770344; 37.977391; 23.737688;...                            \n",
      "1  2; Motorcycle; 98.09; 19.839417; 37.977642; 23...                            \n",
      "2  3; Motorcycle; 63.80; 18.228752; 37.977997; 23...                            \n",
      "3  4; Motorcycle; 145.72; 26.229014; 37.978135; 2...                            \n",
      "4  5; Motorcycle; 138.01; 24.841425; 37.978134; 2...                            \n"
     ]
    }
   ],
   "source": [
    "dataset = \"/home/nantenaina/Documents/10Academy2023/Week02/Challenge2/Data/traffic_20181024_d1_0830_0900.csv\"\n",
    "\n",
    "rawdata = pd.read_csv(dataset)\n",
    "print(rawdata.head())"
   ]
  },
  {
   "cell_type": "code",
   "execution_count": 4,
   "id": "d511eb83-1b45-4763-9ea7-4b9651bfdf6d",
   "metadata": {},
   "outputs": [
    {
     "name": "stdout",
     "output_type": "stream",
     "text": [
      "<class 'pandas.core.frame.DataFrame'>\n",
      "RangeIndex: 922 entries, 0 to 921\n",
      "Data columns (total 1 columns):\n",
      " #   Column                                                                          Non-Null Count  Dtype \n",
      "---  ------                                                                          --------------  ----- \n",
      " 0   track_id; type; traveled_d; avg_speed; lat; lon; speed; lon_acc; lat_acc; time  922 non-null    object\n",
      "dtypes: object(1)\n",
      "memory usage: 7.3+ KB\n"
     ]
    }
   ],
   "source": [
    "rawdata.info()"
   ]
  },
  {
   "cell_type": "code",
   "execution_count": 5,
   "id": "95c940a2-2752-48d9-b1ae-626748b4b6a5",
   "metadata": {},
   "outputs": [],
   "source": [
    "#The number of rows is '922'"
   ]
  },
  {
   "cell_type": "code",
   "execution_count": 6,
   "id": "ebffa50e-c5be-4850-9082-ce87085de5ba",
   "metadata": {},
   "outputs": [
    {
     "name": "stdout",
     "output_type": "stream",
     "text": [
      "122831\n"
     ]
    }
   ],
   "source": [
    "#Get the max number of value for all rows\n",
    "\n",
    "max_length = 0\n",
    "for i in range (0,922) :\n",
    "    text =str(rawdata.iloc[i,0])\n",
    "    number = len(text.split(';'))\n",
    "    if number > max_length :\n",
    "        max_length = number\n",
    "print (max_length)"
   ]
  },
  {
   "cell_type": "code",
   "execution_count": 7,
   "id": "f8848991-dd6d-4234-b235-5c128898f43c",
   "metadata": {},
   "outputs": [],
   "source": [
    "#The max number of value of row is '122831'"
   ]
  },
  {
   "cell_type": "code",
   "execution_count": 8,
   "id": "0cf1ae14-5aa1-4eb7-92f4-94926e4fb06a",
   "metadata": {},
   "outputs": [
    {
     "data": {
      "text/html": [
       "<div>\n",
       "<style scoped>\n",
       "    .dataframe tbody tr th:only-of-type {\n",
       "        vertical-align: middle;\n",
       "    }\n",
       "\n",
       "    .dataframe tbody tr th {\n",
       "        vertical-align: top;\n",
       "    }\n",
       "\n",
       "    .dataframe thead th {\n",
       "        text-align: right;\n",
       "    }\n",
       "</style>\n",
       "<table border=\"1\" class=\"dataframe\">\n",
       "  <thead>\n",
       "    <tr style=\"text-align: right;\">\n",
       "      <th></th>\n",
       "      <th>0</th>\n",
       "      <th>1</th>\n",
       "      <th>2</th>\n",
       "      <th>3</th>\n",
       "      <th>4</th>\n",
       "      <th>5</th>\n",
       "      <th>6</th>\n",
       "      <th>7</th>\n",
       "      <th>8</th>\n",
       "      <th>9</th>\n",
       "      <th>...</th>\n",
       "      <th>122821</th>\n",
       "      <th>122822</th>\n",
       "      <th>122823</th>\n",
       "      <th>122824</th>\n",
       "      <th>122825</th>\n",
       "      <th>122826</th>\n",
       "      <th>122827</th>\n",
       "      <th>122828</th>\n",
       "      <th>122829</th>\n",
       "      <th>122830</th>\n",
       "    </tr>\n",
       "  </thead>\n",
       "  <tbody>\n",
       "    <tr>\n",
       "      <th>0</th>\n",
       "      <td>track_id</td>\n",
       "      <td>type</td>\n",
       "      <td>traveled_d</td>\n",
       "      <td>avg_speed</td>\n",
       "      <td>lat</td>\n",
       "      <td>lon</td>\n",
       "      <td>speed</td>\n",
       "      <td>lon_acc</td>\n",
       "      <td>lat_acc</td>\n",
       "      <td>time</td>\n",
       "      <td>...</td>\n",
       "      <td>NaN</td>\n",
       "      <td>NaN</td>\n",
       "      <td>NaN</td>\n",
       "      <td>NaN</td>\n",
       "      <td>NaN</td>\n",
       "      <td>NaN</td>\n",
       "      <td>NaN</td>\n",
       "      <td>NaN</td>\n",
       "      <td>NaN</td>\n",
       "      <td>NaN</td>\n",
       "    </tr>\n",
       "    <tr>\n",
       "      <th>1</th>\n",
       "      <td>1</td>\n",
       "      <td>Car</td>\n",
       "      <td>48.85</td>\n",
       "      <td>9.770344</td>\n",
       "      <td>37.977391</td>\n",
       "      <td>23.737688</td>\n",
       "      <td>4.9178</td>\n",
       "      <td>0.0518</td>\n",
       "      <td>-0.0299</td>\n",
       "      <td>0.000000</td>\n",
       "      <td>...</td>\n",
       "      <td>NaN</td>\n",
       "      <td>NaN</td>\n",
       "      <td>NaN</td>\n",
       "      <td>NaN</td>\n",
       "      <td>NaN</td>\n",
       "      <td>NaN</td>\n",
       "      <td>NaN</td>\n",
       "      <td>NaN</td>\n",
       "      <td>NaN</td>\n",
       "      <td>NaN</td>\n",
       "    </tr>\n",
       "    <tr>\n",
       "      <th>2</th>\n",
       "      <td>2</td>\n",
       "      <td>Motorcycle</td>\n",
       "      <td>98.09</td>\n",
       "      <td>19.839417</td>\n",
       "      <td>37.977642</td>\n",
       "      <td>23.737400</td>\n",
       "      <td>16.9759</td>\n",
       "      <td>-0.0361</td>\n",
       "      <td>-0.0228</td>\n",
       "      <td>0.000000</td>\n",
       "      <td>...</td>\n",
       "      <td>NaN</td>\n",
       "      <td>NaN</td>\n",
       "      <td>NaN</td>\n",
       "      <td>NaN</td>\n",
       "      <td>NaN</td>\n",
       "      <td>NaN</td>\n",
       "      <td>NaN</td>\n",
       "      <td>NaN</td>\n",
       "      <td>NaN</td>\n",
       "      <td>NaN</td>\n",
       "    </tr>\n",
       "    <tr>\n",
       "      <th>3</th>\n",
       "      <td>3</td>\n",
       "      <td>Motorcycle</td>\n",
       "      <td>63.80</td>\n",
       "      <td>18.228752</td>\n",
       "      <td>37.977997</td>\n",
       "      <td>23.737264</td>\n",
       "      <td>20.1906</td>\n",
       "      <td>-0.0795</td>\n",
       "      <td>-0.3395</td>\n",
       "      <td>0.000000</td>\n",
       "      <td>...</td>\n",
       "      <td>NaN</td>\n",
       "      <td>NaN</td>\n",
       "      <td>NaN</td>\n",
       "      <td>NaN</td>\n",
       "      <td>NaN</td>\n",
       "      <td>NaN</td>\n",
       "      <td>NaN</td>\n",
       "      <td>NaN</td>\n",
       "      <td>NaN</td>\n",
       "      <td>NaN</td>\n",
       "    </tr>\n",
       "    <tr>\n",
       "      <th>4</th>\n",
       "      <td>4</td>\n",
       "      <td>Motorcycle</td>\n",
       "      <td>145.72</td>\n",
       "      <td>26.229014</td>\n",
       "      <td>37.978135</td>\n",
       "      <td>23.737072</td>\n",
       "      <td>2.7555</td>\n",
       "      <td>-0.0302</td>\n",
       "      <td>0.0948</td>\n",
       "      <td>0.000000</td>\n",
       "      <td>...</td>\n",
       "      <td>NaN</td>\n",
       "      <td>NaN</td>\n",
       "      <td>NaN</td>\n",
       "      <td>NaN</td>\n",
       "      <td>NaN</td>\n",
       "      <td>NaN</td>\n",
       "      <td>NaN</td>\n",
       "      <td>NaN</td>\n",
       "      <td>NaN</td>\n",
       "      <td>NaN</td>\n",
       "    </tr>\n",
       "  </tbody>\n",
       "</table>\n",
       "<p>5 rows × 122831 columns</p>\n",
       "</div>"
      ],
      "text/plain": [
       "     0            1            2           3           4           5       \\\n",
       "0  track_id         type   traveled_d   avg_speed         lat         lon   \n",
       "1         1          Car        48.85    9.770344   37.977391   23.737688   \n",
       "2         2   Motorcycle        98.09   19.839417   37.977642   23.737400   \n",
       "3         3   Motorcycle        63.80   18.228752   37.977997   23.737264   \n",
       "4         4   Motorcycle       145.72   26.229014   37.978135   23.737072   \n",
       "\n",
       "     6         7         8          9       ...  122821  122822  122823  \\\n",
       "0     speed   lon_acc   lat_acc       time  ...     NaN     NaN     NaN   \n",
       "1    4.9178    0.0518   -0.0299   0.000000  ...     NaN     NaN     NaN   \n",
       "2   16.9759   -0.0361   -0.0228   0.000000  ...     NaN     NaN     NaN   \n",
       "3   20.1906   -0.0795   -0.3395   0.000000  ...     NaN     NaN     NaN   \n",
       "4    2.7555   -0.0302    0.0948   0.000000  ...     NaN     NaN     NaN   \n",
       "\n",
       "   122824  122825  122826  122827  122828  122829  122830  \n",
       "0     NaN     NaN     NaN     NaN     NaN     NaN     NaN  \n",
       "1     NaN     NaN     NaN     NaN     NaN     NaN     NaN  \n",
       "2     NaN     NaN     NaN     NaN     NaN     NaN     NaN  \n",
       "3     NaN     NaN     NaN     NaN     NaN     NaN     NaN  \n",
       "4     NaN     NaN     NaN     NaN     NaN     NaN     NaN  \n",
       "\n",
       "[5 rows x 122831 columns]"
      ]
     },
     "execution_count": 8,
     "metadata": {},
     "output_type": "execute_result"
    }
   ],
   "source": [
    "#create a dataframe with specified delimiter, number of rows and number of columns based on the above information\n",
    "dataset = \"/home/nantenaina/Documents/10Academy2023/Week02/Challenge2/Data/traffic_20181024_d1_0830_0900.csv\"\n",
    "\n",
    "rawdata1 = pd.read_csv(dataset, delimiter=';' ,index_col=False, names=range(122831), nrows =922, low_memory=False)\n",
    "rawdata1.head(5)\n"
   ]
  },
  {
   "cell_type": "code",
   "execution_count": 9,
   "id": "627a38ce-fc04-406e-9e88-d6cd59b1ab4a",
   "metadata": {},
   "outputs": [],
   "source": [
    "#Separate the data into 2 tables \n",
    "table1 = rawdata1.iloc[:, :10]\n",
    "table2 = rawdata1.iloc[: , 10:]"
   ]
  },
  {
   "cell_type": "code",
   "execution_count": 10,
   "id": "544a7009-94d0-441e-99b0-abb4496e9034",
   "metadata": {},
   "outputs": [
    {
     "name": "stdout",
     "output_type": "stream",
     "text": [
      "          0            1            2           3           4           5  \\\n",
      "0  track_id         type   traveled_d   avg_speed         lat         lon   \n",
      "1         1          Car        48.85    9.770344   37.977391   23.737688   \n",
      "2         2   Motorcycle        98.09   19.839417   37.977642   23.737400   \n",
      "3         3   Motorcycle        63.80   18.228752   37.977997   23.737264   \n",
      "4         4   Motorcycle       145.72   26.229014   37.978135   23.737072   \n",
      "\n",
      "          6         7         8          9  \n",
      "0     speed   lon_acc   lat_acc       time  \n",
      "1    4.9178    0.0518   -0.0299   0.000000  \n",
      "2   16.9759   -0.0361   -0.0228   0.000000  \n",
      "3   20.1906   -0.0795   -0.3395   0.000000  \n",
      "4    2.7555   -0.0302    0.0948   0.000000  \n"
     ]
    }
   ],
   "source": [
    "print(table1.head(5))"
   ]
  },
  {
   "cell_type": "code",
   "execution_count": 11,
   "id": "11f4620e-3872-42f1-86ae-9e3edfc151f1",
   "metadata": {},
   "outputs": [
    {
     "name": "stdout",
     "output_type": "stream",
     "text": [
      "      10         11       12      13      14      15         16      \\\n",
      "0        NaN        NaN      NaN     NaN     NaN     NaN        NaN   \n",
      "1  37.977391  23.737688   4.9207 -0.0124 -0.0354    0.04  37.977391   \n",
      "2  37.977642  23.737402  16.9739  0.0087 -0.0262    0.04  37.977641   \n",
      "3  37.977995  23.737265  20.1862  0.0191 -0.3887    0.04  37.977993   \n",
      "4  37.978135  23.737072   2.7538  0.0072  0.1052    0.04  37.978134   \n",
      "\n",
      "      17       18      19      ...  122821  122822  122823  122824  122825  \\\n",
      "0        NaN      NaN     NaN  ...     NaN     NaN     NaN     NaN     NaN   \n",
      "1  23.737688   4.9160 -0.0519  ...     NaN     NaN     NaN     NaN     NaN   \n",
      "2  23.737404  16.9771  0.0362  ...     NaN     NaN     NaN     NaN     NaN   \n",
      "3  23.737266  20.1933  0.0798  ...     NaN     NaN     NaN     NaN     NaN   \n",
      "4  23.737072   2.7565  0.0302  ...     NaN     NaN     NaN     NaN     NaN   \n",
      "\n",
      "   122826  122827  122828  122829  122830  \n",
      "0     NaN     NaN     NaN     NaN     NaN  \n",
      "1     NaN     NaN     NaN     NaN     NaN  \n",
      "2     NaN     NaN     NaN     NaN     NaN  \n",
      "3     NaN     NaN     NaN     NaN     NaN  \n",
      "4     NaN     NaN     NaN     NaN     NaN  \n",
      "\n",
      "[5 rows x 122821 columns]\n"
     ]
    }
   ],
   "source": [
    "print(table2.head(5))"
   ]
  },
  {
   "cell_type": "code",
   "execution_count": null,
   "id": "cf47091d-13b4-4cfa-b495-5dfaf5614d4e",
   "metadata": {},
   "outputs": [],
   "source": []
  }
 ],
 "metadata": {
  "kernelspec": {
   "display_name": "Python 3 (ipykernel)",
   "language": "python",
   "name": "python3"
  },
  "language_info": {
   "codemirror_mode": {
    "name": "ipython",
    "version": 3
   },
   "file_extension": ".py",
   "mimetype": "text/x-python",
   "name": "python",
   "nbconvert_exporter": "python",
   "pygments_lexer": "ipython3",
   "version": "3.11.5"
  }
 },
 "nbformat": 4,
 "nbformat_minor": 5
}
